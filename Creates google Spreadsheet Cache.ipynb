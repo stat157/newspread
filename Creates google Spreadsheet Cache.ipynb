{
 "metadata": {
  "name": "Creates google Spreadsheet Cache"
 },
 "nbformat": 3,
 "nbformat_minor": 0,
 "worksheets": [
  {
   "cells": [
    {
     "cell_type": "code",
     "collapsed": false,
     "input": [
      "import urllib\n",
      "import json\n",
      "import pandas as pd\n",
      "from pprint import pprint\n",
      "import numpy\n",
      "\n",
      "url = 'http://earthquake.usgs.gov/earthquakes/feed/v1.0/summary/1.0_week.geojson'\n",
      "url\n"
     ],
     "language": "python",
     "metadata": {},
     "outputs": [
      {
       "output_type": "pyout",
       "prompt_number": 34,
       "text": [
        "'http://earthquake.usgs.gov/earthquakes/feed/v1.0/summary/1.0_week.geojson'"
       ]
      }
     ],
     "prompt_number": 34
    },
    {
     "cell_type": "code",
     "collapsed": false,
     "input": [
      "d = json.load(open('1.0_week.geojson'))\n",
      "data = pd.DataFrame(d.items())\n",
      "data"
     ],
     "language": "python",
     "metadata": {},
     "outputs": [
      {
       "html": [
        "<div style=\"max-height:1000px;max-width:1500px;overflow:auto;\">\n",
        "<table border=\"1\" class=\"dataframe\">\n",
        "  <thead>\n",
        "    <tr style=\"text-align: right;\">\n",
        "      <th></th>\n",
        "      <th>0</th>\n",
        "      <th>1</th>\n",
        "    </tr>\n",
        "  </thead>\n",
        "  <tbody>\n",
        "    <tr>\n",
        "      <th>0</th>\n",
        "      <td>     type</td>\n",
        "      <td>                                 FeatureCollection</td>\n",
        "    </tr>\n",
        "    <tr>\n",
        "      <th>1</th>\n",
        "      <td> features</td>\n",
        "      <td> [{u'geometry': {u'type': u'Point', u'coordinat...</td>\n",
        "    </tr>\n",
        "    <tr>\n",
        "      <th>2</th>\n",
        "      <td>     bbox</td>\n",
        "      <td> [-179.4843, -56.4946, -3.1, 179.0595, 66.7659,...</td>\n",
        "    </tr>\n",
        "    <tr>\n",
        "      <th>3</th>\n",
        "      <td> metadata</td>\n",
        "      <td> {u'status': 200, u'count': 1119, u'title': u'U...</td>\n",
        "    </tr>\n",
        "  </tbody>\n",
        "</table>\n",
        "</div>"
       ],
       "output_type": "pyout",
       "prompt_number": 35,
       "text": [
        "          0                                                  1\n",
        "0      type                                  FeatureCollection\n",
        "1  features  [{u'geometry': {u'type': u'Point', u'coordinat...\n",
        "2      bbox  [-179.4843, -56.4946, -3.1, 179.0595, 66.7659,...\n",
        "3  metadata  {u'status': 200, u'count': 1119, u'title': u'U..."
       ]
      }
     ],
     "prompt_number": 35
    },
    {
     "cell_type": "code",
     "collapsed": false,
     "input": [
      "data[1][1][0]"
     ],
     "language": "python",
     "metadata": {},
     "outputs": [
      {
       "output_type": "pyout",
       "prompt_number": 36,
       "text": [
        "{u'geometry': {u'coordinates': [-152.3078, 59.7199, 49.6], u'type': u'Point'},\n",
        " u'id': u'ak10827353',\n",
        " u'properties': {u'alert': None,\n",
        "  u'cdi': None,\n",
        "  u'code': u'10827353',\n",
        "  u'detail': u'http://earthquake.usgs.gov/earthquakes/feed/v1.0/detail/ak10827353.geojson',\n",
        "  u'dmin': None,\n",
        "  u'felt': None,\n",
        "  u'gap': None,\n",
        "  u'ids': u',ak10827353,',\n",
        "  u'mag': 2.5,\n",
        "  u'magType': u'Ml',\n",
        "  u'mmi': None,\n",
        "  u'net': u'ak',\n",
        "  u'nst': None,\n",
        "  u'place': u'27km WSW of Anchor Point, Alaska',\n",
        "  u'rms': 0.95,\n",
        "  u'sig': 96,\n",
        "  u'sources': u',ak,',\n",
        "  u'status': u'AUTOMATIC',\n",
        "  u'time': 1382310680000,\n",
        "  u'title': u'M 2.5 - 27km WSW of Anchor Point, Alaska',\n",
        "  u'tsunami': None,\n",
        "  u'type': u'earthquake',\n",
        "  u'types': u',general-link,geoserve,nearby-cities,origin,tectonic-summary,',\n",
        "  u'tz': -600,\n",
        "  u'updated': 1382310979943,\n",
        "  u'url': u'http://earthquake.usgs.gov/earthquakes/eventpage/ak10827353'},\n",
        " u'type': u'Feature'}"
       ]
      }
     ],
     "prompt_number": 36
    },
    {
     "cell_type": "code",
     "collapsed": false,
     "input": [
      "earthquakes = []\n",
      "\n",
      "for categories in data[1][1]:\n",
      "    \n",
      "    src = categories['properties']['net']\n",
      "    code = categories['properties']['code']\n",
      "    time = categories['properties']['time']\n",
      "    longitude = categories['geometry']['coordinates'][1]\n",
      "    latitude = categories['geometry']['coordinates'][0]\n",
      "    magnitude = categories['properties']['mag']\n",
      "    depth = categories['geometry']['coordinates'][2]\n",
      "    nst = categories['properties']['nst']\n",
      "    place = categories['properties']['place']\n",
      "    earthquake_columns = [src, code, time, longitude, latitude, magnitude, depth, nst, place]\n",
      "    \n",
      "    earthquakes.append(earthquake_columns)\n",
      "\n",
      "earthquakes\n",
      "\n",
      "df = pd.DataFrame(numpy.array(earthquakes),\n",
      " columns = ['Src','Code','Time','Latitude','Longitude','Magnitude','Depth','Nst','Place'])\n",
      "df[0:20]"
     ],
     "language": "python",
     "metadata": {},
     "outputs": [
      {
       "html": [
        "<div style=\"max-height:1000px;max-width:1500px;overflow:auto;\">\n",
        "<table border=\"1\" class=\"dataframe\">\n",
        "  <thead>\n",
        "    <tr style=\"text-align: right;\">\n",
        "      <th></th>\n",
        "      <th>Src</th>\n",
        "      <th>Code</th>\n",
        "      <th>Time</th>\n",
        "      <th>Latitude</th>\n",
        "      <th>Longitude</th>\n",
        "      <th>Magnitude</th>\n",
        "      <th>Depth</th>\n",
        "      <th>Nst</th>\n",
        "      <th>Place</th>\n",
        "    </tr>\n",
        "  </thead>\n",
        "  <tbody>\n",
        "    <tr>\n",
        "      <th>0 </th>\n",
        "      <td> ak</td>\n",
        "      <td> 10827353</td>\n",
        "      <td> 1382310680000</td>\n",
        "      <td> 59.7199</td>\n",
        "      <td>-152.3078</td>\n",
        "      <td> 2.5</td>\n",
        "      <td>  49.6</td>\n",
        "      <td> None</td>\n",
        "      <td>       27km WSW of Anchor Point, Alaska</td>\n",
        "    </tr>\n",
        "    <tr>\n",
        "      <th>1 </th>\n",
        "      <td> nc</td>\n",
        "      <td> 72091701</td>\n",
        "      <td> 1382310605900</td>\n",
        "      <td> 38.8272</td>\n",
        "      <td>-122.8177</td>\n",
        "      <td> 1.1</td>\n",
        "      <td>   1.1</td>\n",
        "      <td> None</td>\n",
        "      <td>      7km NW of The Geysers, California</td>\n",
        "    </tr>\n",
        "    <tr>\n",
        "      <th>2 </th>\n",
        "      <td> ci</td>\n",
        "      <td> 11381386</td>\n",
        "      <td> 1382310334700</td>\n",
        "      <td>  34.027</td>\n",
        "      <td>-117.2608</td>\n",
        "      <td> 1.3</td>\n",
        "      <td>  16.9</td>\n",
        "      <td>   39</td>\n",
        "      <td>        2km S of Loma Linda, California</td>\n",
        "    </tr>\n",
        "    <tr>\n",
        "      <th>3 </th>\n",
        "      <td> us</td>\n",
        "      <td> b000khq7</td>\n",
        "      <td> 1382310200380</td>\n",
        "      <td>  9.7758</td>\n",
        "      <td> 123.9938</td>\n",
        "      <td> 5.3</td>\n",
        "      <td> 20.02</td>\n",
        "      <td> None</td>\n",
        "      <td>       3km NE of Balilihan, Philippines</td>\n",
        "    </tr>\n",
        "    <tr>\n",
        "      <th>4 </th>\n",
        "      <td> ak</td>\n",
        "      <td> 10827343</td>\n",
        "      <td> 1382309049000</td>\n",
        "      <td>  61.563</td>\n",
        "      <td>-146.4229</td>\n",
        "      <td> 2.4</td>\n",
        "      <td>  19.8</td>\n",
        "      <td> None</td>\n",
        "      <td>               48km N of Valdez, Alaska</td>\n",
        "    </tr>\n",
        "    <tr>\n",
        "      <th>5 </th>\n",
        "      <td> nc</td>\n",
        "      <td> 72091686</td>\n",
        "      <td> 1382308262500</td>\n",
        "      <td> 36.8353</td>\n",
        "      <td>-121.3182</td>\n",
        "      <td> 1.1</td>\n",
        "      <td>   6.5</td>\n",
        "      <td> None</td>\n",
        "      <td>       4km ENE of Ridgemark, California</td>\n",
        "    </tr>\n",
        "    <tr>\n",
        "      <th>6 </th>\n",
        "      <td> us</td>\n",
        "      <td> b000khpu</td>\n",
        "      <td> 1382307861050</td>\n",
        "      <td>-10.4056</td>\n",
        "      <td> 161.3176</td>\n",
        "      <td> 4.9</td>\n",
        "      <td> 72.16</td>\n",
        "      <td> None</td>\n",
        "      <td>    66km W of Kirakira, Solomon Islands</td>\n",
        "    </tr>\n",
        "    <tr>\n",
        "      <th>7 </th>\n",
        "      <td> us</td>\n",
        "      <td> b000khpg</td>\n",
        "      <td> 1382305892240</td>\n",
        "      <td>-18.6391</td>\n",
        "      <td> -70.0963</td>\n",
        "      <td> 4.5</td>\n",
        "      <td> 76.61</td>\n",
        "      <td> None</td>\n",
        "      <td>                28km SE of Arica, Chile</td>\n",
        "    </tr>\n",
        "    <tr>\n",
        "      <th>8 </th>\n",
        "      <td> nc</td>\n",
        "      <td> 72091676</td>\n",
        "      <td> 1382305508200</td>\n",
        "      <td> 37.4732</td>\n",
        "      <td> -118.979</td>\n",
        "      <td> 1.5</td>\n",
        "      <td>   3.9</td>\n",
        "      <td> None</td>\n",
        "      <td>    19km S of Mammoth Lakes, California</td>\n",
        "    </tr>\n",
        "    <tr>\n",
        "      <th>9 </th>\n",
        "      <td> hv</td>\n",
        "      <td> 60579886</td>\n",
        "      <td> 1382305480200</td>\n",
        "      <td>  19.395</td>\n",
        "      <td>-155.2865</td>\n",
        "      <td> 2.7</td>\n",
        "      <td>   6.4</td>\n",
        "      <td> None</td>\n",
        "      <td>              6km SW of Volcano, Hawaii</td>\n",
        "    </tr>\n",
        "    <tr>\n",
        "      <th>10</th>\n",
        "      <td> hv</td>\n",
        "      <td> 60579891</td>\n",
        "      <td> 1382305467400</td>\n",
        "      <td> 19.1987</td>\n",
        "      <td>-155.6105</td>\n",
        "      <td> 3.5</td>\n",
        "      <td>   0.6</td>\n",
        "      <td> None</td>\n",
        "      <td>               13km W of Pahala, Hawaii</td>\n",
        "    </tr>\n",
        "    <tr>\n",
        "      <th>11</th>\n",
        "      <td> ci</td>\n",
        "      <td> 11381354</td>\n",
        "      <td> 1382305317800</td>\n",
        "      <td> 33.6807</td>\n",
        "      <td>-116.6797</td>\n",
        "      <td>   1</td>\n",
        "      <td>  19.9</td>\n",
        "      <td>   20</td>\n",
        "      <td>       7km SSE of Idyllwild, California</td>\n",
        "    </tr>\n",
        "    <tr>\n",
        "      <th>12</th>\n",
        "      <td> ak</td>\n",
        "      <td> 10827316</td>\n",
        "      <td> 1382303919000</td>\n",
        "      <td>  61.746</td>\n",
        "      <td>-152.0249</td>\n",
        "      <td> 2.1</td>\n",
        "      <td>   100</td>\n",
        "      <td> None</td>\n",
        "      <td>              104km W of Willow, Alaska</td>\n",
        "    </tr>\n",
        "    <tr>\n",
        "      <th>13</th>\n",
        "      <td> ci</td>\n",
        "      <td> 11381338</td>\n",
        "      <td> 1382301360000</td>\n",
        "      <td> 35.6697</td>\n",
        "      <td>-118.4677</td>\n",
        "      <td> 1.4</td>\n",
        "      <td>   9.6</td>\n",
        "      <td>   11</td>\n",
        "      <td> 4km SSW of Wofford Heights, California</td>\n",
        "    </tr>\n",
        "    <tr>\n",
        "      <th>14</th>\n",
        "      <td> ak</td>\n",
        "      <td> 10827304</td>\n",
        "      <td> 1382300797000</td>\n",
        "      <td> 62.1046</td>\n",
        "      <td>-152.5981</td>\n",
        "      <td> 1.4</td>\n",
        "      <td>  51.8</td>\n",
        "      <td> None</td>\n",
        "      <td>           131km W of Talkeetna, Alaska</td>\n",
        "    </tr>\n",
        "    <tr>\n",
        "      <th>15</th>\n",
        "      <td> ak</td>\n",
        "      <td> 10827299</td>\n",
        "      <td> 1382300507000</td>\n",
        "      <td> 61.6809</td>\n",
        "      <td>-151.0288</td>\n",
        "      <td> 1.8</td>\n",
        "      <td>  49.5</td>\n",
        "      <td> None</td>\n",
        "      <td>               52km W of Willow, Alaska</td>\n",
        "    </tr>\n",
        "    <tr>\n",
        "      <th>16</th>\n",
        "      <td> ak</td>\n",
        "      <td> 10827296</td>\n",
        "      <td> 1382300419000</td>\n",
        "      <td> 60.0634</td>\n",
        "      <td>-140.5906</td>\n",
        "      <td> 2.4</td>\n",
        "      <td>   5.1</td>\n",
        "      <td> None</td>\n",
        "      <td>             75km NW of Yakutat, Alaska</td>\n",
        "    </tr>\n",
        "    <tr>\n",
        "      <th>17</th>\n",
        "      <td> us</td>\n",
        "      <td> b000khnw</td>\n",
        "      <td> 1382298305380</td>\n",
        "      <td> 35.7836</td>\n",
        "      <td>  77.4106</td>\n",
        "      <td> 5.4</td>\n",
        "      <td> 75.29</td>\n",
        "      <td> None</td>\n",
        "      <td>              113km NNE of Thang, India</td>\n",
        "    </tr>\n",
        "    <tr>\n",
        "      <th>18</th>\n",
        "      <td> ak</td>\n",
        "      <td> 10827287</td>\n",
        "      <td> 1382298138000</td>\n",
        "      <td> 63.1862</td>\n",
        "      <td>-149.8679</td>\n",
        "      <td>   1</td>\n",
        "      <td>  85.9</td>\n",
        "      <td> None</td>\n",
        "      <td>           51km WSW of Cantwell, Alaska</td>\n",
        "    </tr>\n",
        "    <tr>\n",
        "      <th>19</th>\n",
        "      <td> us</td>\n",
        "      <td> b000khnn</td>\n",
        "      <td> 1382297405200</td>\n",
        "      <td>  13.025</td>\n",
        "      <td> 144.7346</td>\n",
        "      <td> 4.6</td>\n",
        "      <td> 51.68</td>\n",
        "      <td> None</td>\n",
        "      <td>       27km S of Inarajan Village, Guam</td>\n",
        "    </tr>\n",
        "  </tbody>\n",
        "</table>\n",
        "</div>"
       ],
       "output_type": "pyout",
       "prompt_number": 37,
       "text": [
        "   Src      Code           Time Latitude Longitude Magnitude  Depth   Nst  \\\n",
        "0   ak  10827353  1382310680000  59.7199 -152.3078       2.5   49.6  None   \n",
        "1   nc  72091701  1382310605900  38.8272 -122.8177       1.1    1.1  None   \n",
        "2   ci  11381386  1382310334700   34.027 -117.2608       1.3   16.9    39   \n",
        "3   us  b000khq7  1382310200380   9.7758  123.9938       5.3  20.02  None   \n",
        "4   ak  10827343  1382309049000   61.563 -146.4229       2.4   19.8  None   \n",
        "5   nc  72091686  1382308262500  36.8353 -121.3182       1.1    6.5  None   \n",
        "6   us  b000khpu  1382307861050 -10.4056  161.3176       4.9  72.16  None   \n",
        "7   us  b000khpg  1382305892240 -18.6391  -70.0963       4.5  76.61  None   \n",
        "8   nc  72091676  1382305508200  37.4732  -118.979       1.5    3.9  None   \n",
        "9   hv  60579886  1382305480200   19.395 -155.2865       2.7    6.4  None   \n",
        "10  hv  60579891  1382305467400  19.1987 -155.6105       3.5    0.6  None   \n",
        "11  ci  11381354  1382305317800  33.6807 -116.6797         1   19.9    20   \n",
        "12  ak  10827316  1382303919000   61.746 -152.0249       2.1    100  None   \n",
        "13  ci  11381338  1382301360000  35.6697 -118.4677       1.4    9.6    11   \n",
        "14  ak  10827304  1382300797000  62.1046 -152.5981       1.4   51.8  None   \n",
        "15  ak  10827299  1382300507000  61.6809 -151.0288       1.8   49.5  None   \n",
        "16  ak  10827296  1382300419000  60.0634 -140.5906       2.4    5.1  None   \n",
        "17  us  b000khnw  1382298305380  35.7836   77.4106       5.4  75.29  None   \n",
        "18  ak  10827287  1382298138000  63.1862 -149.8679         1   85.9  None   \n",
        "19  us  b000khnn  1382297405200   13.025  144.7346       4.6  51.68  None   \n",
        "\n",
        "                                     Place  \n",
        "0         27km WSW of Anchor Point, Alaska  \n",
        "1        7km NW of The Geysers, California  \n",
        "2          2km S of Loma Linda, California  \n",
        "3         3km NE of Balilihan, Philippines  \n",
        "4                 48km N of Valdez, Alaska  \n",
        "5         4km ENE of Ridgemark, California  \n",
        "6      66km W of Kirakira, Solomon Islands  \n",
        "7                  28km SE of Arica, Chile  \n",
        "8      19km S of Mammoth Lakes, California  \n",
        "9                6km SW of Volcano, Hawaii  \n",
        "10                13km W of Pahala, Hawaii  \n",
        "11        7km SSE of Idyllwild, California  \n",
        "12               104km W of Willow, Alaska  \n",
        "13  4km SSW of Wofford Heights, California  \n",
        "14            131km W of Talkeetna, Alaska  \n",
        "15                52km W of Willow, Alaska  \n",
        "16              75km NW of Yakutat, Alaska  \n",
        "17               113km NNE of Thang, India  \n",
        "18            51km WSW of Cantwell, Alaska  \n",
        "19        27km S of Inarajan Village, Guam  "
       ]
      }
     ],
     "prompt_number": 37
    },
    {
     "cell_type": "code",
     "collapsed": false,
     "input": [
      "set(df.Src)"
     ],
     "language": "python",
     "metadata": {},
     "outputs": [
      {
       "output_type": "pyout",
       "prompt_number": 38,
       "text": [
        "set([u'pr',\n",
        "     u'ci',\n",
        "     u'nm',\n",
        "     u'nn',\n",
        "     u'mb',\n",
        "     u'uu',\n",
        "     u'ak',\n",
        "     u'nc',\n",
        "     u'hv',\n",
        "     u'us',\n",
        "     u'uw',\n",
        "     u'se'])"
       ]
      }
     ],
     "prompt_number": 38
    },
    {
     "cell_type": "code",
     "collapsed": false,
     "input": [
      "california = df[df.Src=='ci']\n",
      "california[0:5]\n",
      "print california.Longitude[0:5]\n",
      "california.Latitude[0:5]"
     ],
     "language": "python",
     "metadata": {},
     "outputs": [
      {
       "output_type": "stream",
       "stream": "stdout",
       "text": [
        "2    -117.2608\n",
        "11   -116.6797\n",
        "13   -118.4677\n",
        "23    -116.744\n",
        "25   -115.6707\n",
        "Name: Longitude\n"
       ]
      },
      {
       "output_type": "pyout",
       "prompt_number": 39,
       "text": [
        "2      34.027\n",
        "11    33.6807\n",
        "13    35.6697\n",
        "23    33.6512\n",
        "25    32.5243\n",
        "Name: Latitude"
       ]
      }
     ],
     "prompt_number": 39
    },
    {
     "cell_type": "code",
     "collapsed": false,
     "input": [
      "import os.path\n",
      "import ConfigParser"
     ],
     "language": "python",
     "metadata": {},
     "outputs": [],
     "prompt_number": 40
    },
    {
     "cell_type": "code",
     "collapsed": false,
     "input": [
      "from itertools import islice\n",
      "def take(n, iterable):\n",
      "    \"Return first n items of the iterable as a list\"\n",
      "    return list(islice(iterable, n))"
     ],
     "language": "python",
     "metadata": {},
     "outputs": [],
     "prompt_number": 41
    },
    {
     "cell_type": "code",
     "collapsed": false,
     "input": [
      "home = os.path.expanduser(\"~\")\n",
      "configfile = os.path.join(home, 'stat157.cfg')\n",
      "config = ConfigParser.SafeConfigParser()\n",
      "config.read(configfile)\n",
      "username = config.get('google', 'username')\n",
      "password = config.get('google', 'password')\n",
      "print username"
     ],
     "language": "python",
     "metadata": {},
     "outputs": [
      {
       "output_type": "stream",
       "stream": "stdout",
       "text": [
        "arifyali@berkeley.edu\n"
       ]
      }
     ],
     "prompt_number": 42
    },
    {
     "cell_type": "code",
     "collapsed": false,
     "input": [
      "import gspread\n",
      "gspread_client = gspread.login(username, password)"
     ],
     "language": "python",
     "metadata": {},
     "outputs": [],
     "prompt_number": 43
    },
    {
     "cell_type": "code",
     "collapsed": false,
     "input": [
      "import gdata.docs.client\n",
      "gdata_client = gdata.docs.client.DocsClient()\n",
      "gdata_client.ClientLogin(username, password, 'Stat157 Client')\n",
      "filename = \"stat157-homework-02-quake-data\"\n",
      "document = gdata.docs.data.Resource(type='spreadsheet', title = filename)\n",
      "document = gdata_client.CreateResource(document)\n",
      "document"
     ],
     "language": "python",
     "metadata": {},
     "outputs": [
      {
       "output_type": "pyout",
       "prompt_number": 44,
       "text": [
        "<gdata.docs.data.Resource at 0x3797e50>"
       ]
      }
     ],
     "prompt_number": 44
    },
    {
     "cell_type": "code",
     "collapsed": false,
     "input": [
      "try:\n",
      "    gspread_client.open(filename)\n",
      "except Exception, e:\n",
      "    document = gdata.docs.data.Resource(type='spreadsheet', title=filename)\n",
      "    document = gd_client.CreateResource(document)"
     ],
     "language": "python",
     "metadata": {},
     "outputs": [],
     "prompt_number": 45
    },
    {
     "cell_type": "code",
     "collapsed": false,
     "input": [
      "spreadsheet = gspread_client.open(filename)\n",
      "worksheet = spreadsheet.get_worksheet(0)"
     ],
     "language": "python",
     "metadata": {},
     "outputs": [],
     "prompt_number": 46
    },
    {
     "cell_type": "code",
     "collapsed": false,
     "input": [
      "#issue located here, unable to add columns\n",
      "worksheet.add_rows(len(df.Code))\n",
      "worksheet.add_cols(9)"
     ],
     "language": "python",
     "metadata": {},
     "outputs": [],
     "prompt_number": 47
    },
    {
     "cell_type": "code",
     "collapsed": false,
     "input": [
      "lastcall = len(df.Code)"
     ],
     "language": "python",
     "metadata": {},
     "outputs": [],
     "prompt_number": 48
    },
    {
     "cell_type": "code",
     "collapsed": false,
     "input": [
      "for x in range(1, lastcall):\n",
      "    cellnumber = ['a', x]\n",
      "    cell = cellnumber[0] + str(cellnumber[1])\n",
      "    worksheet.update_acell(cell, df.Src[x - 1])"
     ],
     "language": "python",
     "metadata": {},
     "outputs": [],
     "prompt_number": 49
    },
    {
     "cell_type": "code",
     "collapsed": false,
     "input": [
      "for x in range(1, lastcall):\n",
      "    cellnumber = ['b', x]\n",
      "    cell = cellnumber[0] + str(cellnumber[1])\n",
      "    worksheet.update_acell(cell, df.Code[x - 1])"
     ],
     "language": "python",
     "metadata": {},
     "outputs": [],
     "prompt_number": 50
    },
    {
     "cell_type": "code",
     "collapsed": false,
     "input": [
      "for x in range(1, lastcall):\n",
      "    cellnumber = ['d', x]\n",
      "    cell = cellnumber[0] + str(cellnumber[1])\n",
      "    worksheet.update_acell(cell, df.Latitude[x - 1])"
     ],
     "language": "python",
     "metadata": {},
     "outputs": [],
     "prompt_number": 51
    },
    {
     "cell_type": "code",
     "collapsed": false,
     "input": [
      "for x in range(1, lastcall):\n",
      "    cellnumber = ['e', x]\n",
      "    cell = cellnumber[0] + str(cellnumber[1])\n",
      "    worksheet.update_acell(cell, df.Longitude[x - 1])"
     ],
     "language": "python",
     "metadata": {},
     "outputs": [],
     "prompt_number": 52
    },
    {
     "cell_type": "code",
     "collapsed": false,
     "input": [
      "for x in range(1, lastcall):\n",
      "    cellnumber = ['f', x]\n",
      "    cell = cellnumber[0] + str(cellnumber[1])\n",
      "    worksheet.update_acell(cell, df.Magnitude[x - 1])"
     ],
     "language": "python",
     "metadata": {},
     "outputs": [],
     "prompt_number": 53
    },
    {
     "cell_type": "code",
     "collapsed": false,
     "input": [
      "for x in range(1, lastcall):\n",
      "    cellnumber = ['g', x]\n",
      "    cell = cellnumber[0] + str(cellnumber[1])\n",
      "    worksheet.update_acell(cell, df.Depth[x - 1])"
     ],
     "language": "python",
     "metadata": {},
     "outputs": [],
     "prompt_number": 54
    },
    {
     "cell_type": "code",
     "collapsed": false,
     "input": [
      "for x in range(1, lastcall):\n",
      "    cellnumber = ['h', x]\n",
      "    cell = cellnumber[0] + str(cellnumber[1])\n",
      "    worksheet.update_acell(cell, df.Place[x - 1])"
     ],
     "language": "python",
     "metadata": {},
     "outputs": [],
     "prompt_number": 55
    },
    {
     "cell_type": "code",
     "collapsed": false,
     "input": [
      "for x in range(1, lastcall):\n",
      "    cellnumber = ['i', x]\n",
      "    cell = cellnumber[0] + str(cellnumber[1])\n",
      "    worksheet.update_acell(cell, df.Place[x - 1])"
     ],
     "language": "python",
     "metadata": {},
     "outputs": [],
     "prompt_number": 56
    },
    {
     "cell_type": "code",
     "collapsed": false,
     "input": [
      "for x in range(1, lastcall):\n",
      "    cellnumber = ['c', x]\n",
      "    cell = cellnumber[0] + str(cellnumber[1])\n",
      "    worksheet.update_acell(cell, df.Time[x - 1])"
     ],
     "language": "python",
     "metadata": {},
     "outputs": [],
     "prompt_number": 57
    },
    {
     "cell_type": "code",
     "collapsed": false,
     "input": [
      "#google doc cache accessiable: https://docs.google.com/spreadsheet/ccc?key=0Ah0rOhbMSANOdFlpQnpraV9UendEeHdtSDZEYXpoQ2c&usp=sharing"
     ],
     "language": "python",
     "metadata": {},
     "outputs": [],
     "prompt_number": 58
    }
   ],
   "metadata": {}
  }
 ]
}